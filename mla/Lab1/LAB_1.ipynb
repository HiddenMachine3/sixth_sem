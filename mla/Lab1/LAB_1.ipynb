{
  "cells": [
    {
      "cell_type": "code",
      "execution_count": 1,
      "id": "ad192dbc",
      "metadata": {},
      "outputs": [],
      "source": [
        "# %pip install tensorflow==2.13 matplotlib"
      ]
    },
    {
      "cell_type": "markdown",
      "id": "13ff04ff-2f03-4c1b-8f94-5c0fff5bbd24",
      "metadata": {
        "id": "13ff04ff-2f03-4c1b-8f94-5c0fff5bbd24"
      },
      "source": [
        "# Question-1\n",
        "Write a Python code to build a deep neural network using Keras and compute a number of parameters, memory and FLOPs for the following model. Use relu activations functions in the hidden layers and sigmoid activations function in the output layers.\n",
        "\n",
        "\n",
        "CPU that performs 1 GFLOPS (1,000,000,000) per seconds and computes the inference time of the Deep neural network model.\n",
        "\n",
        "\n",
        "\n",
        "<img src=\"2.png\" width=\"700\" height=\"500\">\n"
      ]
    },
    {
      "cell_type": "markdown",
      "id": "a3bbfd46-dc1d-403b-bde7-5daab5627172",
      "metadata": {
        "id": "a3bbfd46-dc1d-403b-bde7-5daab5627172"
      },
      "source": [
        "##  Parameters calculation in Deep neural network\n",
        "\n",
        "The number of internal parameters in a neural network is the total number of weights + the total number of biases. The total number of weights equals the sum of the products of each pair of adjacent layers. The total number of biases equals the number of hidden neurons + the number of output neurons.\n",
        "\n",
        "## Model Size calculations\n",
        "\n",
        "\n",
        "Model Size (in bytes)=Number of Parameters×Bytes Per Parameter\n",
        "Model Size (in KB)=Model Size (in bytes)/1024\n",
        "\n",
        "##  FLOPs calculation in Deep neural network\n",
        "FLOPs of  FC=2*(input size x output size )+(output size x activation)\n",
        "\n",
        "## Activation functions FLOPS for  Tensor Flow\n",
        "\n",
        "Relu  -->      1FLOPs\n",
        "\n",
        "Sigmoid   -->   1FLOPs\n",
        "\n",
        "Tanh   -->      1FLOPs\n",
        "\n",
        "Softmax    -->  6FLOPs\n",
        "\n",
        "## Infrences time calculations\n",
        "\n",
        "The inference time = FLOPs/FLOPS.\n",
        "\n",
        "FLOPs-> measures computational complexity of the model.\n",
        "\n",
        "FLOPS-> measures the hardware’s processing capability\n",
        "\n"
      ]
    },
    {
      "cell_type": "code",
      "execution_count": 2,
      "id": "b2c00e89",
      "metadata": {},
      "outputs": [
        {
          "name": "stdout",
          "output_type": "stream",
          "text": [
            "tensorflow                   2.13.0\n",
            "tensorflow-estimator         2.13.0\n",
            "tensorflow-io-gcs-filesystem 0.37.1\n",
            "Note: you may need to restart the kernel to use updated packages.\n"
          ]
        }
      ],
      "source": [
        "%pip list | grep tensorflow"
      ]
    },
    {
      "cell_type": "code",
      "execution_count": 3,
      "id": "MoGFoTZqnYp0",
      "metadata": {
        "colab": {
          "base_uri": "https://localhost:8080/",
          "height": 1000
        },
        "id": "MoGFoTZqnYp0",
        "outputId": "6b556d6c-9d1d-4841-b1f0-a5b44b2f06d9"
      },
      "outputs": [],
      "source": [
        "# %pip install tensorflow==2.13"
      ]
    },
    {
      "cell_type": "code",
      "execution_count": 4,
      "id": "50bc661c-0608-479a-a379-ce4f7a7a1712",
      "metadata": {
        "colab": {
          "base_uri": "https://localhost:8080/"
        },
        "id": "50bc661c-0608-479a-a379-ce4f7a7a1712",
        "outputId": "0defb68d-fccd-4187-e463-50fdfa73c8ff"
      },
      "outputs": [
        {
          "name": "stderr",
          "output_type": "stream",
          "text": [
            "2025-02-04 14:08:38.072333: I tensorflow/tsl/cuda/cudart_stub.cc:28] Could not find cuda drivers on your machine, GPU will not be used.\n",
            "2025-02-04 14:08:38.603746: I tensorflow/tsl/cuda/cudart_stub.cc:28] Could not find cuda drivers on your machine, GPU will not be used.\n",
            "2025-02-04 14:08:38.606605: I tensorflow/core/platform/cpu_feature_guard.cc:182] This TensorFlow binary is optimized to use available CPU instructions in performance-critical operations.\n",
            "To enable the following instructions: AVX2 FMA, in other operations, rebuild TensorFlow with the appropriate compiler flags.\n",
            "2025-02-04 14:08:41.243876: W tensorflow/compiler/tf2tensorrt/utils/py_utils.cc:38] TF-TRT Warning: Could not find TensorRT\n"
          ]
        },
        {
          "name": "stdout",
          "output_type": "stream",
          "text": [
            "Model: \"sequential\"\n",
            "_________________________________________________________________\n",
            " Layer (type)                Output Shape              Param #   \n",
            "=================================================================\n",
            " dense (Dense)               (None, 5)                 30        \n",
            "                                                                 \n",
            " dense_1 (Dense)             (None, 5)                 30        \n",
            "                                                                 \n",
            " dense_2 (Dense)             (None, 1)                 6         \n",
            "                                                                 \n",
            "=================================================================\n",
            "Total params: 66 (264.00 Byte)\n",
            "Trainable params: 66 (264.00 Byte)\n",
            "Non-trainable params: 0 (0.00 Byte)\n",
            "_________________________________________________________________\n"
          ]
        }
      ],
      "source": [
        "### Write  your code here\n",
        "import tensorflow as tf\n",
        "from tensorflow.keras.models import Sequential\n",
        "from tensorflow.keras.layers import Conv2D,Conv3D, MaxPooling3D, Flatten, Dense,MaxPool2D\n",
        "\n",
        "model=Sequential([Dense(5,activation='relu',input_shape=(5,)),\n",
        "                  Dense(5,activation='relu'),\n",
        "                  Dense(1,activation='relu')\n",
        "                  ])\n",
        "\n",
        "\n",
        "model.summary()"
      ]
    },
    {
      "cell_type": "code",
      "execution_count": 5,
      "id": "4FqI2srfvBxs",
      "metadata": {
        "colab": {
          "base_uri": "https://localhost:8080/"
        },
        "id": "4FqI2srfvBxs",
        "outputId": "1d95c45f-1161-4f96-a9cd-03f5ef7964f6"
      },
      "outputs": [
        {
          "data": {
            "text/plain": [
              "66"
            ]
          },
          "execution_count": 5,
          "metadata": {},
          "output_type": "execute_result"
        }
      ],
      "source": [
        "model.count_params()"
      ]
    },
    {
      "cell_type": "code",
      "execution_count": 6,
      "id": "9inqp79Fer_3",
      "metadata": {
        "id": "9inqp79Fer_3"
      },
      "outputs": [],
      "source": [
        "def compute(model) -> tuple:\n",
        "    \"\"\"\n",
        "    Returns : total params, total flops\n",
        "    \"\"\"\n",
        "\n",
        "    total_params = 0\n",
        "    total_flops = 0\n",
        "\n",
        "    acti_flops_map = {\n",
        "        \"relu\": 1,\n",
        "        \"sigmoid\": 1,\n",
        "        \"tanh\": 1,\n",
        "        \"softmax\": 6,\n",
        "    }\n",
        "\n",
        "    for layer in model.layers:\n",
        "        layertype = layer.__class__.__name__\n",
        "        acti_flops = 0\n",
        "        acti = getattr(layer, \"activation\", None)\n",
        "        acti_name = acti.__name__ if acti else None\n",
        "\n",
        "        if layertype in [\"Dense\"]:\n",
        "            inputunits = layer.input_shape[-1]\n",
        "            outputunits = layer.output_shape[-1]\n",
        "            param = inputunits * outputunits + outputunits\n",
        "            flops = 2 * outputunits * inputunits\n",
        "            acti_flops = outputunits * acti_flops_map.get(acti_name, 0)\n",
        "\n",
        "        elif layertype in [\"Conv2D\", \"Conv3D\"]:\n",
        "            kernel_size = layer.kernel_size\n",
        "            input_shape = layer.input_shape\n",
        "            output_shape = layer.output_shape\n",
        "            filters = layer.filters\n",
        "\n",
        "            param = (\n",
        "                filters * kernel_size[0] * kernel_size[1] * input_shape[-1]\n",
        "            ) + filters\n",
        "\n",
        "            output_elements = output_shape[1] * output_shape[2] * filters\n",
        "            flops = (\n",
        "                2 * kernel_size[0] * kernel_size[1] * input_shape[-1] * output_elements\n",
        "            )\n",
        "            acti_flops = output_elements * acti_flops_map.get(acti_name, 0)\n",
        "\n",
        "        else:\n",
        "            param = 0\n",
        "            flops = 0\n",
        "\n",
        "        total_params += param\n",
        "        total_flops += flops + acti_flops\n",
        "\n",
        "    bytes_per_param = 4\n",
        "    total_size = total_params * bytes_per_param\n",
        "\n",
        "    return total_params, total_flops, total_size"
      ]
    },
    {
      "cell_type": "code",
      "execution_count": 7,
      "id": "rU0G7OIBjiv2",
      "metadata": {
        "colab": {
          "base_uri": "https://localhost:8080/"
        },
        "id": "rU0G7OIBjiv2",
        "outputId": "121b1fcc-b9a9-46cb-cf5c-ccfb2f19262d"
      },
      "outputs": [
        {
          "name": "stdout",
          "output_type": "stream",
          "text": [
            "total parameters : 66\n",
            "total flops : 121\n",
            "total size : 264 bytes\n"
          ]
        }
      ],
      "source": [
        "def print_metrics(total_params, total_flops, total_size):\n",
        "    print(f\"total parameters : {total_params}\\ntotal flops : {total_flops}\\ntotal size : {total_size} bytes\")\n",
        "\n",
        "p1,f1,s1 = compute(model)\n",
        "print_metrics(p1,f1,s1)"
      ]
    },
    {
      "cell_type": "markdown",
      "id": "dcca70a6-efbd-4ec7-a94c-2fc83072a07b",
      "metadata": {
        "id": "dcca70a6-efbd-4ec7-a94c-2fc83072a07b"
      },
      "source": [
        "# Question-2\n",
        "Write a Python code to build a deep neural network using Keras and compute a number of parameters, memory and FLOPs for the following model. Use relu activations functions in the hidden layers and softmax activations function in the output layers. Write a Python code plot  the bar graph of the question 1 and question 2 output and compare.\n",
        "\n",
        "\n",
        "\n",
        "<img src=\"1.png\" width=\"700\" height=\"500\">"
      ]
    },
    {
      "cell_type": "code",
      "execution_count": 8,
      "id": "1a795d48-531a-4917-b708-dd9af3f2f2cd",
      "metadata": {
        "colab": {
          "base_uri": "https://localhost:8080/"
        },
        "id": "1a795d48-531a-4917-b708-dd9af3f2f2cd",
        "outputId": "e0bbc496-3437-42a0-e09c-98dd942316fd"
      },
      "outputs": [
        {
          "name": "stdout",
          "output_type": "stream",
          "text": [
            "Model: \"sequential_1\"\n",
            "_________________________________________________________________\n",
            " Layer (type)                Output Shape              Param #   \n",
            "=================================================================\n",
            " dense_3 (Dense)             (None, 9)                 45        \n",
            "                                                                 \n",
            " dense_4 (Dense)             (None, 6)                 60        \n",
            "                                                                 \n",
            " dense_5 (Dense)             (None, 3)                 21        \n",
            "                                                                 \n",
            "=================================================================\n",
            "Total params: 126 (504.00 Byte)\n",
            "Trainable params: 126 (504.00 Byte)\n",
            "Non-trainable params: 0 (0.00 Byte)\n",
            "_________________________________________________________________\n"
          ]
        }
      ],
      "source": [
        "import tensorflow as tf\n",
        "from tensorflow.keras.models import Sequential\n",
        "from tensorflow.keras.layers import (\n",
        "    Conv2D,\n",
        "    Conv3D,\n",
        "    MaxPooling3D,\n",
        "    Flatten,\n",
        "    Dense,\n",
        "    MaxPool2D,\n",
        ")\n",
        "\n",
        "model = Sequential(\n",
        "    [\n",
        "        Dense(9, activation=\"relu\", input_shape=(4,)),\n",
        "        Dense(6, activation=\"relu\"),\n",
        "        Dense(3, activation=\"softmax\"),\n",
        "    ]\n",
        ")\n",
        "\n",
        "\n",
        "model.summary()"
      ]
    },
    {
      "cell_type": "code",
      "execution_count": 9,
      "id": "zvmTdEA9rERE",
      "metadata": {
        "colab": {
          "base_uri": "https://localhost:8080/"
        },
        "id": "zvmTdEA9rERE",
        "outputId": "e9fcb742-b387-4b5b-8c49-d86b5379d429"
      },
      "outputs": [
        {
          "name": "stdout",
          "output_type": "stream",
          "text": [
            "total parameters : 126\n",
            "total flops : 249\n",
            "total size : 504 bytes\n"
          ]
        }
      ],
      "source": [
        "p2, f2, s2 = compute(model)\n",
        "print_metrics(p2, f2, s2)"
      ]
    },
    {
      "cell_type": "code",
      "execution_count": 10,
      "id": "49b51b62",
      "metadata": {},
      "outputs": [
        {
          "data": {
            "text/html": [
              "<div>\n",
              "<style scoped>\n",
              "    .dataframe tbody tr th:only-of-type {\n",
              "        vertical-align: middle;\n",
              "    }\n",
              "\n",
              "    .dataframe tbody tr th {\n",
              "        vertical-align: top;\n",
              "    }\n",
              "\n",
              "    .dataframe thead th {\n",
              "        text-align: right;\n",
              "    }\n",
              "</style>\n",
              "<table border=\"1\" class=\"dataframe\">\n",
              "  <thead>\n",
              "    <tr style=\"text-align: right;\">\n",
              "      <th></th>\n",
              "      <th>params</th>\n",
              "      <th>flops</th>\n",
              "      <th>size(bytes)</th>\n",
              "    </tr>\n",
              "  </thead>\n",
              "  <tbody>\n",
              "    <tr>\n",
              "      <th>model1</th>\n",
              "      <td>66</td>\n",
              "      <td>121</td>\n",
              "      <td>264</td>\n",
              "    </tr>\n",
              "    <tr>\n",
              "      <th>model2</th>\n",
              "      <td>126</td>\n",
              "      <td>249</td>\n",
              "      <td>504</td>\n",
              "    </tr>\n",
              "  </tbody>\n",
              "</table>\n",
              "</div>"
            ],
            "text/plain": [
              "        params  flops  size(bytes)\n",
              "model1      66    121          264\n",
              "model2     126    249          504"
            ]
          },
          "execution_count": 10,
          "metadata": {},
          "output_type": "execute_result"
        }
      ],
      "source": [
        "import matplotlib.pyplot as plt\n",
        "import pandas as pd\n",
        "import seaborn as sns\n",
        "\n",
        "df = pd.DataFrame(data=[[p1,f1,s1],[p2,f2,s2]], columns=[\"params\",\"flops\",\"size(bytes)\"], index=[\"model1\", \"model2\"])\n",
        "df.head()"
      ]
    },
    {
      "cell_type": "code",
      "execution_count": 11,
      "id": "a630b9f8",
      "metadata": {},
      "outputs": [
        {
          "data": {
            "image/png": "[encoded data removed]",
            "text/plain": [
              "<Figure size 640x480 with 1 Axes>"
            ]
          },
          "metadata": {},
          "output_type": "display_data"
        }
      ],
      "source": [
        "df.plot(kind='bar')\n",
        "plt.title('Comparison of Model Parameters, FLOPs, and Size')\n",
        "plt.show()"
      ]
    },
    {
      "cell_type": "markdown",
      "id": "96f4995f-d746-4d7d-98eb-5cf732c02fac",
      "metadata": {
        "id": "96f4995f-d746-4d7d-98eb-5cf732c02fac"
      },
      "source": [
        "## Output Dimensions Formula for 2D Convolution\n",
        "<img src=\"10.png\" width=\"600\" height=\"400\">\n",
        "\n",
        "## Parameter calculation of 2DCNN\n",
        "\n",
        "\n",
        "<img src=\"4.png\" width=\"400\" height=\"200\">\n",
        "\n",
        "## FLOPs calculation of 2DCNN\n",
        "<img src=\"6.png\" width=\"600\" height=\"400\">\n",
        "\n",
        "\n",
        "\n",
        "## FLOPs calculation for Pooling Layers\n",
        "<img src=\"12.png\" width=\"600\" height=\"400\">\n"
      ]
    },
    {
      "cell_type": "markdown",
      "id": "bec5bed0-e48b-472c-82d8-c84fcb7bb443",
      "metadata": {
        "id": "bec5bed0-e48b-472c-82d8-c84fcb7bb443"
      },
      "source": [
        "# Question-3\n",
        "\n",
        "Write a Python code build 2DCNN model for the following specifications using Keras and compute the number of parameters ,model size and FLOPs\n",
        "\n",
        "The model architecture consists of several layers designed for image classification tasks, such as recognizing digits from the MNIST dataset. The architecture begins with a 2D convolutional layer (Conv2D), which applies 32 filters of size 3x3 to the input image (28x28x1), followed by the ReLU activation function to introduce non-linearity. This is followed by a max-pooling layer (MaxPooling2D) with a pool size of 2x2, reducing the spatial dimensions of the feature maps while retaining important information. A second convolutional layer with 64 filters of size 3x3 is then applied, again using ReLU activation. Another max-pooling layer  (2x2 ) follows to further downsample the feature maps. The output of the convolutional layers is then flattened into a one-dimensional vector using the Flatten layer, which is fed into the fully connected dense layers. The first dense layer has 64 neurons with ReLU activation, allowing the model to learn complex representations, while the final dense layer has 10 neurons with a softmax activation function, providing probabilities for each of the 10 possible digit classes.\n"
      ]
    },
    {
      "cell_type": "code",
      "execution_count": 12,
      "id": "0140dc76-f695-41d3-bd81-b0627fd9950e",
      "metadata": {
        "colab": {
          "base_uri": "https://localhost:8080/"
        },
        "id": "0140dc76-f695-41d3-bd81-b0627fd9950e",
        "outputId": "bfb9831b-44b4-4558-bff9-4ecf2b2054c6"
      },
      "outputs": [
        {
          "name": "stdout",
          "output_type": "stream",
          "text": [
            "Model: \"sequential_2\"\n",
            "_________________________________________________________________\n",
            " Layer (type)                Output Shape              Param #   \n",
            "=================================================================\n",
            " conv2d (Conv2D)             (None, 26, 26, 32)        320       \n",
            "                                                                 \n",
            " max_pooling2d (MaxPooling2  (None, 13, 13, 32)        0         \n",
            " D)                                                              \n",
            "                                                                 \n",
            " conv2d_1 (Conv2D)           (None, 11, 11, 64)        18496     \n",
            "                                                                 \n",
            " max_pooling2d_1 (MaxPoolin  (None, 5, 5, 64)          0         \n",
            " g2D)                                                            \n",
            "                                                                 \n",
            " flatten (Flatten)           (None, 1600)              0         \n",
            "                                                                 \n",
            " dense_6 (Dense)             (None, 64)                102464    \n",
            "                                                                 \n",
            " dense_7 (Dense)             (None, 10)                650       \n",
            "                                                                 \n",
            "=================================================================\n",
            "Total params: 121930 (476.29 KB)\n",
            "Trainable params: 121930 (476.29 KB)\n",
            "Non-trainable params: 0 (0.00 Byte)\n",
            "_________________________________________________________________\n"
          ]
        }
      ],
      "source": [
        "import tensorflow as tf\n",
        "from tensorflow.keras.models import Sequential\n",
        "from tensorflow.keras.layers import (\n",
        "    Conv2D,\n",
        "    Conv3D,\n",
        "    MaxPooling3D,\n",
        "    Flatten,\n",
        "    Dense,\n",
        "    MaxPool2D,\n",
        ")\n",
        "\n",
        "model = Sequential(\n",
        "    [\n",
        "        Conv2D(32, (3, 3), activation=\"relu\", input_shape=(28, 28, 1)),\n",
        "        MaxPool2D((2, 2)),\n",
        "        Conv2D(64, (3, 3), activation=\"relu\"),\n",
        "        MaxPool2D((2, 2)),\n",
        "        Flatten(),\n",
        "        Dense(64, activation=\"relu\"),\n",
        "        Dense(10, activation=\"softmax\"),\n",
        "    ]\n",
        ")\n",
        "\n",
        "model.summary()"
      ]
    },
    {
      "cell_type": "code",
      "execution_count": 13,
      "id": "bTowKAlluMs5",
      "metadata": {
        "colab": {
          "base_uri": "https://localhost:8080/",
          "height": 35
        },
        "id": "bTowKAlluMs5",
        "outputId": "a860d8f1-d6ab-40cb-cd32-87349d13b64a"
      },
      "outputs": [
        {
          "name": "stdout",
          "output_type": "stream",
          "text": [
            "total parameters : 121930\n",
            "total flops : 5085500\n",
            "total size : 487720 bytes\n"
          ]
        }
      ],
      "source": [
        "print_metrics(*compute(model))"
      ]
    },
    {
      "cell_type": "markdown",
      "id": "07efdcc1-e0dc-493a-9a6a-e76c2e6b4920",
      "metadata": {
        "id": "07efdcc1-e0dc-493a-9a6a-e76c2e6b4920"
      },
      "source": [
        "# Question-4\n",
        "Write a Python code to build CNN using Keras and compute a  number of parameters,memory and FLOPs for the following model.\n",
        "\n",
        "\n",
        "\n",
        "\n",
        "\n",
        "<img src=\"3.jpg\" width=\"900\">"
      ]
    },
    {
      "cell_type": "code",
      "execution_count": 14,
      "id": "297ed5e3-c963-43c6-a6ea-063fffe67231",
      "metadata": {
        "id": "297ed5e3-c963-43c6-a6ea-063fffe67231"
      },
      "outputs": [
        {
          "name": "stdout",
          "output_type": "stream",
          "text": [
            "Model: \"sequential_3\"\n",
            "_________________________________________________________________\n",
            " Layer (type)                Output Shape              Param #   \n",
            "=================================================================\n",
            " conv2d_2 (Conv2D)           (None, 26, 26, 32)        320       \n",
            "                                                                 \n",
            " max_pooling2d_2 (MaxPoolin  (None, 13, 13, 32)        0         \n",
            " g2D)                                                            \n",
            "                                                                 \n",
            " conv2d_3 (Conv2D)           (None, 11, 11, 64)        18496     \n",
            "                                                                 \n",
            " max_pooling2d_3 (MaxPoolin  (None, 5, 5, 64)          0         \n",
            " g2D)                                                            \n",
            "                                                                 \n",
            " flatten_1 (Flatten)         (None, 1600)              0         \n",
            "                                                                 \n",
            " dense_8 (Dense)             (None, 64)                102464    \n",
            "                                                                 \n",
            " dense_9 (Dense)             (None, 10)                650       \n",
            "                                                                 \n",
            "=================================================================\n",
            "Total params: 121930 (476.29 KB)\n",
            "Trainable params: 121930 (476.29 KB)\n",
            "Non-trainable params: 0 (0.00 Byte)\n",
            "_________________________________________________________________\n"
          ]
        }
      ],
      "source": [
        "model=Sequential([Conv2D(32,(3,3),activation='relu',input_shape=(28,28,1)),\n",
        "                  MaxPool2D((2,2)),\n",
        "                  Conv2D(64,(3,3),activation='relu'),\n",
        "                  MaxPool2D((2,2)),\n",
        "                  Flatten(),\n",
        "                  Dense(64,activation='relu'),\n",
        "                  Dense(10,activation='softmax')\n",
        "                  ])\n",
        "\n",
        "model.summary()"
      ]
    },
    {
      "cell_type": "code",
      "execution_count": 15,
      "id": "MlNLbGqfxEBU",
      "metadata": {
        "id": "MlNLbGqfxEBU"
      },
      "outputs": [
        {
          "name": "stdout",
          "output_type": "stream",
          "text": [
            "total parameters : 121930\n",
            "total flops : 5085500\n",
            "total size : 487720 bytes\n"
          ]
        }
      ],
      "source": [
        "print_metrics(*compute(model))"
      ]
    },
    {
      "cell_type": "markdown",
      "id": "81bd615b-8d3f-40a3-b174-e2879460c4c3",
      "metadata": {
        "id": "81bd615b-8d3f-40a3-b174-e2879460c4c3"
      },
      "source": [
        "## Output Shape of 3DCNN\n",
        "\n",
        "<img src=\"13.png\" width=\"400\" height=\"300\">\n",
        "<img src=\"14.png\" width=\"400\" height=\"300\">\n",
        "\n",
        "\n",
        "\n",
        "\n",
        "\n",
        "\n",
        "### 3DCNN parameters calculations\n",
        "<img src=\"7.png\" width=\"900\" height=\"700\">\n"
      ]
    },
    {
      "cell_type": "markdown",
      "id": "c329993c-6a36-493f-9e05-b4ee86005753",
      "metadata": {
        "id": "c329993c-6a36-493f-9e05-b4ee86005753"
      },
      "source": [
        "### 3DCNN FLOPs calculations\n",
        "\n",
        "<img src=\"8.png\" width=\"900\" height=\"700\">\n",
        "\n",
        "\n",
        "\n",
        "### 3DCNN FLOPs calculation for Pooling Layers\n",
        "<img src=\"15.png\" width=\"900\" height=\"700\">\n"
      ]
    },
    {
      "cell_type": "markdown",
      "id": "57e700ae-b194-434f-826c-1e8183acc37e",
      "metadata": {
        "id": "57e700ae-b194-434f-826c-1e8183acc37e"
      },
      "source": [
        "# Question-5\n",
        "\n",
        "You are tasked with designing a 3D Convolutional Neural Network (3D CNN) to classify video clips into one of five categories, such as walking, running, jumping, swimming, and cycling. Each video clip consists of 16 frames of size 64x64, and the data has a single channel (grayscale). The model should include two 3D convolutional layers followed by max-pooling layers, a flattening layer, and fully connected dense layers. Specifically, the architecture should satisfy the following requirements:\n",
        "\n",
        "The input layer should accept a shape of (16, 64, 64, 1) corresponding to the temporal, height, width, and channel dimensions.\n",
        "The first 3D convolutional layer should have 32 filters of size (3, 3, 3) and use ReLU activation.\n",
        "The first max-pooling layer should have a pool size of (2, 2, 2) to downsample the feature maps.\n",
        "The second 3D convolutional layer should have 64 filters of size (3, 3, 3) and use ReLU activation.\n",
        "The second max-pooling layer should again have a pool size of (2, 2, 2).\n",
        "The flattened layer should connect to a dense layer with 128 neurons using ReLU activation, followed by the output layer with 5 neurons and a softmax activation.\n",
        "Design and implement this 3D CNN architecture, compute the number of parameters for each layer, compute the model size and compute the FLOPs.\n",
        "\n",
        "\n",
        "\n",
        "\n",
        "\n"
      ]
    },
    {
      "cell_type": "code",
      "execution_count": 16,
      "id": "6dee948f-5288-4fbc-b995-443a3d975263",
      "metadata": {
        "id": "6dee948f-5288-4fbc-b995-443a3d975263"
      },
      "outputs": [
        {
          "name": "stdout",
          "output_type": "stream",
          "text": [
            "Model: \"sequential_4\"\n",
            "_________________________________________________________________\n",
            " Layer (type)                Output Shape              Param #   \n",
            "=================================================================\n",
            " dense_10 (Dense)            (None, 16, 16, 64, 5)     10        \n",
            "                                                                 \n",
            " conv3d (Conv3D)             (None, 14, 14, 62, 32)    4352      \n",
            "                                                                 \n",
            " max_pooling3d (MaxPooling3  (None, 7, 7, 31, 32)      0         \n",
            " D)                                                              \n",
            "                                                                 \n",
            " conv3d_1 (Conv3D)           (None, 5, 5, 29, 64)      55360     \n",
            "                                                                 \n",
            " max_pooling3d_1 (MaxPoolin  (None, 2, 2, 14, 64)      0         \n",
            " g3D)                                                            \n",
            "                                                                 \n",
            " dense_11 (Dense)            (None, 2, 2, 14, 128)     8320      \n",
            "                                                                 \n",
            " dense_12 (Dense)            (None, 2, 2, 14, 5)       645       \n",
            "                                                                 \n",
            "=================================================================\n",
            "Total params: 68687 (268.31 KB)\n",
            "Trainable params: 68687 (268.31 KB)\n",
            "Non-trainable params: 0 (0.00 Byte)\n",
            "_________________________________________________________________\n"
          ]
        }
      ],
      "source": [
        "### Write  your code here\n",
        "model = Sequential(\n",
        "    [\n",
        "        Dense(5, activation=\"relu\", input_shape=(16, 16, 64, 1)),\n",
        "        Conv3D(filters=32, kernel_size=(3, 3, 3), activation=\"relu\"),\n",
        "        MaxPooling3D(pool_size=(2, 2, 2)),\n",
        "        Conv3D(filters=64, kernel_size=(3, 3, 3), activation=\"relu\"),\n",
        "        MaxPooling3D(pool_size=(2, 2, 2)),\n",
        "        Dense(128, activation=\"relu\"),\n",
        "        Dense(5, activation=\"softmax\"),\n",
        "    ]\n",
        ")\n",
        "model.summary()"
      ]
    },
    {
      "cell_type": "code",
      "execution_count": 17,
      "id": "03b5a4e3",
      "metadata": {},
      "outputs": [
        {
          "name": "stdout",
          "output_type": "stream",
          "text": [
            "total parameters : 28943\n",
            "total flops : 1511789\n",
            "total size : 115772 bytes\n"
          ]
        }
      ],
      "source": [
        "print_metrics(*compute(model))"
      ]
    },
    {
      "cell_type": "markdown",
      "id": "d0457d1f-bca5-405f-8dd3-2fbc26dd7038",
      "metadata": {
        "id": "d0457d1f-bca5-405f-8dd3-2fbc26dd7038"
      },
      "source": [
        "# Question-6\n",
        "\n",
        "A company is building a system to predict customer sentiment (positive or negative) based on a sequence of customer reviews.\n",
        "Each review is represented as a feature vector of size 4, where each feature corresponds to a specific aspect of the review, such as tone, length, and keyword presence. To process this sequential data, the team decides to use a Recurrent Neural Network (RNN).\n",
        "\n",
        "The input size n<sub>x</sub> is 4, meaning each input vector x<sup>t</sup> has 4 features.  \n",
        "The hidden layer has 3 hidden units n<sub>a</sub>=3.  \n",
        "The output size n<sub>y</sub> is 2, corresponding to the two possible sentiment classes (positive or negative).  \n",
        "The sequence length T<sub>x</sub> is 5, meaning the RNN will process a sequence of 5 reviews at a time.\n",
        "use sigmoid activation functions in the output layers and compute the number of parameters and memory in the RNN model.\n",
        "\n",
        "\n",
        "\n",
        "\n",
        "<img src=\"9.png\" width=\"400\">\n",
        "\n",
        "\n",
        "Number of parameter of RNN = g × [a(a+i) + a]\n",
        "\n",
        "a --> hidden unit\n",
        "\n",
        "i ---> input unit\n",
        "\n"
      ]
    },
    {
      "cell_type": "code",
      "execution_count": 18,
      "id": "e77c1ac0-6a30-46c5-93d8-e78f34284ae6",
      "metadata": {
        "id": "e77c1ac0-6a30-46c5-93d8-e78f34284ae6"
      },
      "outputs": [
        {
          "name": "stdout",
          "output_type": "stream",
          "text": [
            "Model: \"sequential_5\"\n",
            "_________________________________________________________________\n",
            " Layer (type)                Output Shape              Param #   \n",
            "=================================================================\n",
            " simple_rnn (SimpleRNN)      (None, 3)                 24        \n",
            "                                                                 \n",
            " dense_13 (Dense)            (None, 2)                 8         \n",
            "                                                                 \n",
            "=================================================================\n",
            "Total params: 32 (128.00 Byte)\n",
            "Trainable params: 32 (128.00 Byte)\n",
            "Non-trainable params: 0 (0.00 Byte)\n",
            "_________________________________________________________________\n"
          ]
        }
      ],
      "source": [
        "from tensorflow.keras.layers import SimpleRNN, Dense\n",
        "\n",
        "model = Sequential(\n",
        "    [\n",
        "        SimpleRNN(3, input_shape=(5, 4), activation=\"tanh\"),\n",
        "        Dense(2, activation=\"sigmoid\"),\n",
        "    ]\n",
        ")\n",
        "\n",
        "model.summary()"
      ]
    },
    {
      "cell_type": "code",
      "execution_count": 19,
      "id": "3634525b",
      "metadata": {},
      "outputs": [],
      "source": [
        "def get_rnn_metrics(model):\n",
        "    g,a,i =0,0,0\n",
        "    for layer in model.layers:\n",
        "        if type(layer) == SimpleRNN:\n",
        "            g += 1\n",
        "            a += layer.units\n",
        "            i += layer.input_shape[-1]\n",
        "    return g, a, i\n",
        "\n",
        "g, a, i = get_rnn_metrics(model)\n",
        "\n",
        "def num_params_rnn(model):\n",
        "    g, a, i = get_rnn_metrics(model)\n",
        "    total_params = g * (a * (a + i) + a)\n",
        "    return total_params"
      ]
    },
    {
      "cell_type": "code",
      "execution_count": 20,
      "id": "ef24c8d7",
      "metadata": {},
      "outputs": [],
      "source": [
        "def compute_metrics_general_model(model):\n",
        "    p, _, s = compute(model)\n",
        "\n",
        "    rnn_p = num_params_rnn(model)\n",
        "    bytes_per_param = 4\n",
        "\n",
        "    p += rnn_p\n",
        "    s += rnn_p * bytes_per_param\n",
        "    return p, s"
      ]
    },
    {
      "cell_type": "code",
      "execution_count": 21,
      "id": "36a9863e",
      "metadata": {},
      "outputs": [
        {
          "name": "stdout",
          "output_type": "stream",
          "text": [
            "number of parameters : 32\n",
            "size of model : 128 bytes\n"
          ]
        }
      ],
      "source": [
        "p,s = compute_metrics_general_model(model)\n",
        "print(f\"number of parameters : {p}\\nsize of model : {s} bytes\")"
      ]
    },
    {
      "cell_type": "markdown",
      "id": "1933955e-5b05-4e2e-9b36-27b5190fea54",
      "metadata": {
        "id": "1933955e-5b05-4e2e-9b36-27b5190fea54"
      },
      "source": [
        "# Question 7\n",
        "\n",
        "Write a Python code to implement a single LSTM unit for the follwoing and compute the parameter of the follwoing model using Keras.\n",
        "    \n",
        "<img src=\"https://github.com/kmkarakaya/ML_tutorials/blob/master/images/LSTM_internal2.png?raw=true\" width=\"500\">\n",
        "\n",
        "\n",
        " Notice that we can guess the size (shape) of W,U and b given:\n",
        " * Input size ($h_{t-1}$ and $x_{t}$ )\n",
        " * Output size ($h_{t-1}$)\n",
        "\n",
        " Since output must equal to Hidden State (hx1) size:\n",
        "\n",
        "  * for W param =  ($h$ × $x$)\n",
        "  * for U param =  ($h$ × $h$)\n",
        "  * for Biases  param =   $h$\n",
        "\n",
        " * total params = W param + U param + Biases param\n",
        "  \n",
        "    =  ($h$ × $x$) +  ($h$ × $h$) +  $h$\n",
        "\n",
        "    =  ( ($h$ × $x$) +  ($h$ × $h$) +   $h$ )\n",
        "\n",
        "    =  ( ($x$ + $h$) ×  $h$  +   $h$ )\n",
        "\n",
        "* there are 4 functions which are exactly defined in the same way, in the LSTM layer, there will be\n",
        "\n",
        " ##   **LSTM parameter number = 4 × (($x$ + $h$) × $h$ +$h$)**\n",
        "\n"
      ]
    },
    {
      "cell_type": "code",
      "execution_count": 22,
      "id": "32110225-3e3a-482c-a850-835920d0fda8",
      "metadata": {
        "id": "32110225-3e3a-482c-a850-835920d0fda8"
      },
      "outputs": [],
      "source": [
        "from tensorflow.keras.layers import LSTM\n",
        "\n",
        "model = Sequential([\n",
        "    LSTM(units=3, input_shape=(None, 3))\n",
        "     # None: is present at the start to specify variable length sequences\n",
        "     # 3 is for the number of features in each time step\n",
        "])"
      ]
    },
    {
      "cell_type": "code",
      "execution_count": 23,
      "id": "204de76c",
      "metadata": {},
      "outputs": [],
      "source": [
        "def compute_lstm_params(layer:LSTM):\n",
        "    x = layer.input_shape[-1]\n",
        "    h = layer.units\n",
        "    w_params = h*x\n",
        "    u_params = h*h\n",
        "    biases_params = h\n",
        "    total_params = w_params + u_params + biases_params\n",
        "    return total_params"
      ]
    },
    {
      "cell_type": "code",
      "execution_count": 24,
      "id": "9845559e",
      "metadata": {},
      "outputs": [
        {
          "name": "stdout",
          "output_type": "stream",
          "text": [
            "Number of parameters : 21\n"
          ]
        }
      ],
      "source": [
        "params = compute_lstm_params(model.layers[0])\n",
        "print(f\"Number of parameters : {params}\")"
      ]
    }
  ],
  "metadata": {
    "colab": {
      "provenance": []
    },
    "kernelspec": {
      "display_name": "statistella",
      "language": "python",
      "name": "python3"
    },
    "language_info": {
      "codemirror_mode": {
        "name": "ipython",
        "version": 3
      },
      "file_extension": ".py",
      "mimetype": "text/x-python",
      "name": "python",
      "nbconvert_exporter": "python",
      "pygments_lexer": "ipython3",
      "version": "3.11.11"
    }
  },
  "nbformat": 4,
  "nbformat_minor": 5
}
